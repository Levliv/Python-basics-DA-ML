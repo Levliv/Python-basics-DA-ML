{
 "cells":[
  {
   "cell_type":"markdown",
   "source":[
    "# Reading data"
   ],
   "attachments":{
    
   },
   "metadata":{
    "datalore":{
     "type":"MD",
     "hide_input_from_viewers":false,
     "hide_output_from_viewers":false
    }
   }
  },
  {
   "cell_type":"code",
   "source":[
    "import pandas as pd"
   ],
   "execution_count":2,
   "outputs":[
    
   ],
   "metadata":{
    "datalore":{
     "type":"CODE",
     "hide_input_from_viewers":false,
     "hide_output_from_viewers":false
    }
   }
  },
  {
   "cell_type":"code",
   "source":[
    "df_test = pd.read_csv('test.csv', index_col=0)\n",
    "df_train = pd.read_csv('train.csv', index_col=0)\n",
    "df = pd.concat([df_train, df_test])"
   ],
   "execution_count":3,
   "outputs":[
    
   ],
   "metadata":{
    "datalore":{
     "type":"CODE",
     "hide_input_from_viewers":false,
     "hide_output_from_viewers":false
    }
   }
  },
  {
   "cell_type":"markdown",
   "source":[
    "### Сделаем столбцы 'Survived', 'Pclass', 'Sex' категориями"
   ],
   "attachments":{
    
   },
   "metadata":{
    "datalore":{
     "type":"MD",
     "hide_input_from_viewers":false,
     "hide_output_from_viewers":false
    }
   }
  },
  {
   "cell_type":"code",
   "source":[
    "columns_to_category = ['Survived', 'Pclass', 'Sex' ]\n",
    "for col in columns_to_category:\n",
    "    df[col] = df[col].astype('category')\n",
    "df.info()"
   ],
   "execution_count":4,
   "outputs":[
    {
     "name":"stdout",
     "text":[
      "<class 'pandas.core.frame.DataFrame'>\n",
      "Int64Index: 1309 entries, 1 to 1309\n",
      "Data columns (total 11 columns):\n",
      " #   Column    Non-Null Count  Dtype   \n",
      "---  ------    --------------  -----   \n",
      " 0   Survived  891 non-null    category\n",
      " 1   Pclass    1309 non-null   category\n",
      " 2   Name      1309 non-null   object  \n",
      " 3   Sex       1309 non-null   category\n",
      " 4   Age       1046 non-null   float64 \n",
      " 5   SibSp     1309 non-null   int64   \n",
      " 6   Parch     1309 non-null   int64   \n",
      " 7   Ticket    1309 non-null   object  \n",
      " 8   Fare      1308 non-null   float64 \n",
      " 9   Cabin     295 non-null    object  \n",
      " 10  Embarked  1307 non-null   object  \n",
      "dtypes: category(3), float64(2), int64(2), object(4)\n",
      "memory usage: 96.2+ KB\n"
     ],
     "output_type":"stream"
    }
   ],
   "metadata":{
    "datalore":{
     "type":"CODE",
     "hide_input_from_viewers":false,
     "hide_output_from_viewers":false
    }
   }
  },
  {
   "cell_type":"markdown",
   "source":[
    "# 1. Анализ таблицы"
   ],
   "attachments":{
    
   },
   "metadata":{
    "datalore":{
     "type":"MD",
     "hide_input_from_viewers":false,
     "hide_output_from_viewers":false
    }
   }
  },
  {
   "cell_type":"markdown",
   "source":[
    "a) Визуализировать базовую статистику таблицы. В каком классе было больше всего пассажиров?"
   ],
   "attachments":{
    
   },
   "metadata":{
    "datalore":{
     "type":"MD",
     "hide_input_from_viewers":false,
     "hide_output_from_viewers":false
    }
   }
  },
  {
   "cell_type":"code",
   "source":[
    "df.describe()\n",
    "df_name_groupby_class = df.groupby('Pclass').count()['Name']\n",
    "print(df_name_groupby_class[df_name_groupby_class == df_name_groupby_class.max()])"
   ],
   "execution_count":5,
   "outputs":[
    {
     "name":"stdout",
     "text":[
      "Pclass\n",
      "3    709\n",
      "Name: Name, dtype: int64\n"
     ],
     "output_type":"stream"
    }
   ],
   "metadata":{
    "datalore":{
     "type":"CODE",
     "hide_input_from_viewers":false,
     "hide_output_from_viewers":false
    }
   }
  },
  {
   "cell_type":"markdown",
   "source":[
    "b) Группировать таблицу в два уровня: класс и пол, по среднему значению возраста. Кто из возможных комбинаций самый юный, кто самый взрослый? Насколько отличаются эти значения?"
   ],
   "attachments":{
    
   },
   "metadata":{
    "datalore":{
     "type":"MD",
     "hide_input_from_viewers":false,
     "hide_output_from_viewers":false
    }
   }
  },
  {
   "cell_type":"code",
   "source":[
    "age_group_mean = df.groupby(['Pclass', 'Sex'])['Age'].mean()\n",
    "min_category_age = age_group_mean.min()\n",
    "max_category_age = age_group_mean.max()\n",
    "print(\"Min age with category\")\n",
    "print(age_group_mean[age_group_mean == min_category_age])\n",
    "\n",
    "\n",
    "print(\"\\n\\nMax age with category\")\n",
    "print(age_group_mean[age_group_mean == max_category_age])\n",
    "\n",
    "print(f\"\\n\\nBetween category difference: {max_category_age-min_category_age}\")"
   ],
   "execution_count":6,
   "outputs":[
    {
     "name":"stdout",
     "text":[
      "Min age with category\n",
      "Pclass  Sex   \n",
      "3       female    22.185329\n",
      "Name: Age, dtype: float64\n",
      "\n",
      "\n",
      "Max age with category\n",
      "Pclass  Sex \n",
      "1       male    41.029272\n",
      "Name: Age, dtype: float64\n",
      "\n",
      "\n",
      "Between category difference: 18.843942575810384\n"
     ],
     "output_type":"stream"
    }
   ],
   "metadata":{
    "datalore":{
     "type":"CODE",
     "hide_input_from_viewers":false,
     "hide_output_from_viewers":false
    }
   }
  },
  {
   "cell_type":"markdown",
   "source":[
    "c) Отобрать только выживших пассажиров с фамилией, начинающейся на “K”. Отсортировать их по убыванию стоимости билета. Кто заплатил больше всех? Кто меньше всех?"
   ],
   "attachments":{
    
   },
   "metadata":{
    "datalore":{
     "type":"MD",
     "hide_input_from_viewers":false,
     "hide_output_from_viewers":false
    }
   }
  },
  {
   "cell_type":"code",
   "source":[
    "df['Name'] = df['Name'].astype(str)\n",
    "df_k = df[df['Name'].str.startswith('K')]\n",
    "df_res = df_k[df_k['Survived'] == 1]\n",
    "df_sorted = df_res.sort_values(by=['Fare'], ascending=False)\n",
    "print(df_sorted)\n",
    "print(f\"More paid:\\n{df_sorted.head(1)}\")\n",
    "print(f\"The least paid:\\n{df_sorted.tail(1)}\")"
   ],
   "execution_count":7,
   "outputs":[
    {
     "name":"stdout",
     "text":[
      "            Survived Pclass                                      Name     Sex  \\\n",
      "PassengerId                                                                     \n",
      "622              1.0      1              Kimball, Mr. Edwin Nelson Jr    male   \n",
      "458              1.0      1         Kenyon, Mrs. Frederick R (Marion)  female   \n",
      "317              1.0      2       Kantor, Mrs. Sinai (Miriam Sternin)  female   \n",
      "185              1.0      3       Kink-Heilmann, Miss. Luise Gretchen  female   \n",
      "707              1.0      2             Kelly, Mrs. Florence \"Fannie\"  female   \n",
      "692              1.0      3                        Karun, Miss. Manca  female   \n",
      "304              1.0      2                       Keane, Miss. Nora A  female   \n",
      "301              1.0      3  Kelly, Miss. Anna Katherine \"Annie Kate\"  female   \n",
      "574              1.0      3                         Kelly, Miss. Mary  female   \n",
      "\n",
      "              Age  SibSp  Parch  Ticket     Fare Cabin Embarked  \n",
      "PassengerId                                                      \n",
      "622          42.0      1      0   11753  52.5542   D19        S  \n",
      "458           NaN      1      0   17464  51.8625   D21        S  \n",
      "317          24.0      1      0  244367  26.0000   NaN        S  \n",
      "185           4.0      0      2  315153  22.0250   NaN        S  \n",
      "707          45.0      0      0  223596  13.5000   NaN        S  \n",
      "692           4.0      0      1  349256  13.4167   NaN        C  \n",
      "304           NaN      0      0  226593  12.3500  E101        Q  \n",
      "301           NaN      0      0    9234   7.7500   NaN        Q  \n",
      "574           NaN      0      0   14312   7.7500   NaN        Q  \n",
      "More paid:\n",
      "            Survived Pclass                          Name   Sex   Age  SibSp  \\\n",
      "PassengerId                                                                    \n",
      "622              1.0      1  Kimball, Mr. Edwin Nelson Jr  male  42.0      1   \n",
      "\n",
      "             Parch Ticket     Fare Cabin Embarked  \n",
      "PassengerId                                        \n",
      "622              0  11753  52.5542   D19        S  \n",
      "The least paid:\n",
      "            Survived Pclass               Name     Sex  Age  SibSp  Parch  \\\n",
      "PassengerId                                                                 \n",
      "574              1.0      3  Kelly, Miss. Mary  female  NaN      0      0   \n",
      "\n",
      "            Ticket  Fare Cabin Embarked  \n",
      "PassengerId                              \n",
      "574          14312  7.75   NaN        Q  \n"
     ],
     "output_type":"stream"
    }
   ],
   "metadata":{
    "datalore":{
     "type":"CODE",
     "hide_input_from_viewers":false,
     "hide_output_from_viewers":false
    }
   }
  },
  {
   "cell_type":"markdown",
   "source":[
    "d) Какое максимальное количество родных было с выжившим пассажиром?"
   ],
   "attachments":{
    
   },
   "metadata":{
    "datalore":{
     "type":"MD",
     "hide_input_from_viewers":false,
     "hide_output_from_viewers":false
    }
   }
  },
  {
   "cell_type":"code",
   "source":[
    "pt = df.copy(deep=True)\n",
    "pt['Relatives'] = pt[['Parch', 'SibSp']].sum(axis=1)\n",
    "pt.drop(columns=['Parch', 'SibSp'], inplace=True)\n",
    "pk = pt.groupby(['Survived', 'Relatives'])['Relatives'].max()\n",
    "res = pk.groupby('Survived').max()\n",
    "res[1] # У выжившего значение - 1 ### P.S. Может по-дурацки, но нужно считать всех родственников"
   ],
   "execution_count":8,
   "outputs":[
    {
     "data":{
      "text\/plain":[
       "6.0"
      ]
     },
     "metadata":{
      
     },
     "output_type":"display_data"
    }
   ],
   "metadata":{
    "datalore":{
     "type":"CODE",
     "hide_input_from_viewers":false,
     "hide_output_from_viewers":false
    }
   }
  },
  {
   "cell_type":"markdown",
   "source":[
    "e) Посчитайте среднюю стоимость билета пассажиров, для которых указана каюта (Cabin) и для тех, у кого она не указана, во сколько раз они отличаются?"
   ],
   "attachments":{
    
   },
   "metadata":{
    "datalore":{
     "type":"MD",
     "hide_input_from_viewers":false,
     "hide_output_from_viewers":false
    }
   }
  },
  {
   "cell_type":"code",
   "source":[
    "def_fare = df[df['Cabin'].notnull()]['Fare'].mean()\n",
    "undef_fare = df[df['Cabin'].isnull()]['Fare'].mean()\n",
    "print(f'Defined cabin mean fare is {def_fare},\\nwhile for Undefined cabin mean fare is {undef_fare}.')\n",
    "print(f'For defined cabin fare was {def_fare\/undef_fare} times higher')"
   ],
   "execution_count":9,
   "outputs":[
    {
     "name":"stdout",
     "text":[
      "Defined cabin mean fare is 81.92899830508475,\n",
      "while for Undefined cabin mean fare is 19.132707206317864.\n",
      "For defined cabin fare was 4.282143526350037 times higher\n"
     ],
     "output_type":"stream"
    }
   ],
   "metadata":{
    "datalore":{
     "type":"CODE",
     "hide_input_from_viewers":false,
     "hide_output_from_viewers":false
    }
   }
  },
  {
   "cell_type":"markdown",
   "source":[
    "# 2. Visualization"
   ],
   "attachments":{
    
   },
   "metadata":{
    "datalore":{
     "type":"MD",
     "hide_input_from_viewers":false,
     "hide_output_from_viewers":false
    }
   }
  },
  {
   "cell_type":"markdown",
   "source":[
    "Импортируем библиотеку для визуализации https:\/\/plotly.com\/python\/"
   ],
   "attachments":{
    
   },
   "metadata":{
    "datalore":{
     "type":"MD",
     "hide_input_from_viewers":false,
     "hide_output_from_viewers":false
    }
   }
  },
  {
   "cell_type":"code",
   "source":[
    "import plotly.express as px"
   ],
   "execution_count":10,
   "outputs":[
    
   ],
   "metadata":{
    "datalore":{
     "type":"CODE",
     "hide_input_from_viewers":false,
     "hide_output_from_viewers":false
    }
   }
  },
  {
   "cell_type":"markdown",
   "source":[
    "a) Scatter plot"
   ],
   "attachments":{
    
   },
   "metadata":{
    "datalore":{
     "type":"MD",
     "hide_input_from_viewers":false,
     "hide_output_from_viewers":false
    }
   }
  },
  {
   "cell_type":"code",
   "source":[
    "fig = px.scatter(df, x='Age', y='Fare')\n",
    "fig.show()"
   ],
   "execution_count":11,
   "outputs":[
    {
     "data":{
      "text\/plain":[
       "Unsupported"
      ]
     },
     "metadata":{
      
     },
     "output_type":"display_data"
    }
   ],
   "metadata":{
    "datalore":{
     "type":"CODE",
     "hide_input_from_viewers":false,
     "hide_output_from_viewers":false
    }
   }
  },
  {
   "cell_type":"markdown",
   "source":[
    "b) Linear plot (with several lines)"
   ],
   "attachments":{
    
   },
   "metadata":{
    "datalore":{
     "type":"MD",
     "hide_input_from_viewers":false,
     "hide_output_from_viewers":false
    }
   }
  },
  {
   "cell_type":"code",
   "source":[
    "df_male = df.copy(deep=True)[df.Sex == \"male\"]\n",
    "df_female = df.copy(deep=True)[df.Sex == \"female\"]\n",
    "df_male = df_male.groupby(\"Age\").mean().assign(Sex=\"male\")\n",
    "df_female = df_female.groupby(\"Age\").mean().assign(Sex=\"female\")\n",
    "df_plot = pd.concat([df_male, df_female])\n",
    "fig = px.line(df_plot, y=\"Fare\",color = \"Sex\")\n",
    "fig.show()"
   ],
   "execution_count":12,
   "outputs":[
    {
     "data":{
      "text\/plain":[
       "Unsupported"
      ]
     },
     "metadata":{
      
     },
     "output_type":"display_data"
    }
   ],
   "metadata":{
    "datalore":{
     "type":"CODE",
     "hide_input_from_viewers":false,
     "hide_output_from_viewers":false
    }
   }
  },
  {
   "cell_type":"markdown",
   "source":[
    "c) Histogram"
   ],
   "attachments":{
    
   },
   "metadata":{
    "datalore":{
     "type":"MD",
     "hide_input_from_viewers":false,
     "hide_output_from_viewers":false
    }
   }
  },
  {
   "cell_type":"code",
   "source":[
    "fig = px.histogram(df, x='Age')\n",
    "fig.show()"
   ],
   "execution_count":13,
   "outputs":[
    {
     "data":{
      "text\/plain":[
       "Unsupported"
      ]
     },
     "metadata":{
      
     },
     "output_type":"display_data"
    }
   ],
   "metadata":{
    "datalore":{
     "type":"CODE",
     "hide_input_from_viewers":false,
     "hide_output_from_viewers":false
    }
   }
  },
  {
   "cell_type":"markdown",
   "source":[
    "d) Bar chart"
   ],
   "attachments":{
    
   },
   "metadata":{
    "datalore":{
     "type":"MD",
     "hide_input_from_viewers":false,
     "hide_output_from_viewers":false
    }
   }
  },
  {
   "cell_type":"code",
   "source":[
    "fig = px.bar(df, x='Embarked', color=\"Sex\", title=\"Distribution between man and woman boarded in different ports\", barmode=\"group\")\n",
    "fig.show()"
   ],
   "execution_count":14,
   "outputs":[
    {
     "data":{
      "text\/plain":[
       "Unsupported"
      ]
     },
     "metadata":{
      
     },
     "output_type":"display_data"
    }
   ],
   "metadata":{
    "datalore":{
     "type":"CODE",
     "hide_input_from_viewers":false,
     "hide_output_from_viewers":false
    }
   }
  },
  {
   "cell_type":"markdown",
   "source":[
    "e) Horizontal bar chart"
   ],
   "attachments":{
    
   },
   "metadata":{
    "datalore":{
     "type":"MD",
     "hide_input_from_viewers":false,
     "hide_output_from_viewers":false
    }
   }
  },
  {
   "cell_type":"code",
   "source":[
    "fig = px.bar(df, x='Fare', y='Pclass', orientation='h')\n",
    "fig.show()"
   ],
   "execution_count":15,
   "outputs":[
    {
     "data":{
      "text\/plain":[
       "Unsupported"
      ]
     },
     "metadata":{
      
     },
     "output_type":"display_data"
    }
   ],
   "metadata":{
    "datalore":{
     "type":"CODE",
     "hide_input_from_viewers":false,
     "hide_output_from_viewers":false
    }
   }
  },
  {
   "cell_type":"markdown",
   "source":[
    "f) Pie chart"
   ],
   "attachments":{
    
   },
   "metadata":{
    "datalore":{
     "type":"MD",
     "hide_input_from_viewers":false,
     "hide_output_from_viewers":false
    }
   }
  },
  {
   "cell_type":"code",
   "source":[
    "fig = px.pie(df, values='Age', names='Sex')\n",
    "fig.show()"
   ],
   "execution_count":71,
   "outputs":[
    {
     "data":{
      "text\/plain":[
       "Unsupported"
      ]
     },
     "metadata":{
      
     },
     "output_type":"display_data"
    }
   ],
   "metadata":{
    "datalore":{
     "type":"CODE",
     "hide_input_from_viewers":false,
     "hide_output_from_viewers":false
    }
   }
  },
  {
   "cell_type":"markdown",
   "source":[
    "g) Box chart"
   ],
   "attachments":{
    
   },
   "metadata":{
    "datalore":{
     "type":"MD",
     "hide_input_from_viewers":false,
     "hide_output_from_viewers":false
    }
   }
  },
  {
   "cell_type":"code",
   "source":[
    "fig = px.box(df, x='Pclass', y='Age', points=\"all\")\n",
    "fig.show()"
   ],
   "execution_count":72,
   "outputs":[
    {
     "data":{
      "text\/plain":[
       "Unsupported"
      ]
     },
     "metadata":{
      
     },
     "output_type":"display_data"
    }
   ],
   "metadata":{
    "datalore":{
     "type":"CODE",
     "hide_input_from_viewers":false,
     "hide_output_from_viewers":false
    }
   }
  },
  {
   "cell_type":"markdown",
   "source":[
    "h) Sunburst chart"
   ],
   "attachments":{
    
   },
   "metadata":{
    "datalore":{
     "type":"MD",
     "hide_input_from_viewers":false,
     "hide_output_from_viewers":false
    }
   }
  },
  {
   "cell_type":"code",
   "source":[
    "fig = px.sunburst(df, path=['Sex', 'Pclass', 'SibSp'], values='Fare')\n",
    "fig.show()"
   ],
   "execution_count":73,
   "outputs":[
    {
     "data":{
      "text\/plain":[
       "Unsupported"
      ]
     },
     "metadata":{
      
     },
     "output_type":"display_data"
    }
   ],
   "metadata":{
    "datalore":{
     "type":"CODE",
     "hide_input_from_viewers":false,
     "hide_output_from_viewers":false
    }
   }
  },
  {
   "cell_type":"markdown",
   "source":[
    "I) Violin"
   ],
   "attachments":{
    
   },
   "metadata":{
    "datalore":{
     "type":"MD",
     "hide_input_from_viewers":false,
     "hide_output_from_viewers":false
    }
   }
  },
  {
   "cell_type":"code",
   "source":[
    "fig = px.violin(df, y='Fare')\n",
    "fig.show()"
   ],
   "execution_count":74,
   "outputs":[
    {
     "data":{
      "text\/plain":[
       "Unsupported"
      ]
     },
     "metadata":{
      
     },
     "output_type":"display_data"
    }
   ],
   "metadata":{
    "datalore":{
     "type":"CODE",
     "hide_input_from_viewers":false,
     "hide_output_from_viewers":false
    }
   }
  },
  {
   "cell_type":"markdown",
   "source":[
    "J) 3D Scatter Plot"
   ],
   "attachments":{
    
   },
   "metadata":{
    "datalore":{
     "type":"MD",
     "hide_input_from_viewers":false,
     "hide_output_from_viewers":false
    }
   }
  },
  {
   "cell_type":"code",
   "source":[
    "fig = px.scatter_3d(df, x='Age', y='Pclass', z='Parch',\n",
    "              color='Fare')\n",
    "fig.show()"
   ],
   "execution_count":75,
   "outputs":[
    {
     "data":{
      "text\/plain":[
       "Unsupported"
      ]
     },
     "metadata":{
      
     },
     "output_type":"display_data"
    }
   ],
   "metadata":{
    "datalore":{
     "type":"CODE",
     "hide_input_from_viewers":false,
     "hide_output_from_viewers":false
    }
   }
  }
 ],
 "metadata":{
  "datalore":{
   "version":1,
   "computation_mode":"JUPYTER",
   "package_manager":"pip",
   "base_environment":"default",
   "packages":[
    
   ]
  }
 },
 "nbformat":4,
 "nbformat_minor":4
}