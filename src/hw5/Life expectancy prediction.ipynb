{
  "cells": [
    {
      "cell_type": "code",
      "execution_count": null,
      "metadata": {
        "id": "gKtHJ-tVFVbR"
      },
      "outputs": [],
      "source": [
        "import plotly.express as px\n",
        "import pandas as pd\n",
        "import numpy as np"
      ]
    },
    {
      "cell_type": "code",
      "execution_count": null,
      "metadata": {
        "id": "tvc6RpeIFZEs",
        "colab": {
          "base_uri": "https://localhost:8080/"
        },
        "outputId": "2d02da83-75c5-4ece-85b1-3f159ffa32a7"
      },
      "outputs": [
        {
          "output_type": "stream",
          "name": "stdout",
          "text": [
            "23\n",
            "22\n"
          ]
        }
      ],
      "source": [
        "df = pd.read_csv('drive/MyDrive/spbu_life_expectancy/train.csv')\n",
        "df_test = pd.read_csv('drive/MyDrive/spbu_life_expectancy/test.csv')\n",
        "print(len(df.columns))\n",
        "print(len(df_test.columns))"
      ]
    },
    {
      "cell_type": "code",
      "execution_count": null,
      "metadata": {
        "colab": {
          "base_uri": "https://localhost:8080/"
        },
        "id": "hv4ivzz3FkL0",
        "outputId": "230be505-16ef-4231-d6de-2467fbec7b4f"
      },
      "outputs": [
        {
          "output_type": "stream",
          "name": "stdout",
          "text": [
            "23\n",
            "22\n",
            "id                                 0\n",
            "country                            0\n",
            "year                               0\n",
            "status                             0\n",
            "life_expectancy                    0\n",
            "adult_mortality                    0\n",
            "infant_deaths                      0\n",
            "alcohol                            0\n",
            "percentage_expenditure             0\n",
            "hepatitis_b                        0\n",
            "measles                            0\n",
            "bmi                                0\n",
            "under-five_deaths                  0\n",
            "polio                              0\n",
            "total_expenditure                  0\n",
            "diphtheria                         0\n",
            "hiv/aids                           0\n",
            "gdp                                0\n",
            "population                         0\n",
            "thinness_1-19_years                0\n",
            "thinness_5-9_years                 0\n",
            "income_composition_of_resources    0\n",
            "schooling                          0\n",
            "dtype: int64\n",
            "id                                 0\n",
            "country                            0\n",
            "year                               0\n",
            "status                             0\n",
            "adult_mortality                    0\n",
            "infant_deaths                      0\n",
            "alcohol                            0\n",
            "percentage_expenditure             0\n",
            "hepatitis_b                        0\n",
            "measles                            0\n",
            "bmi                                0\n",
            "under-five_deaths                  0\n",
            "polio                              0\n",
            "total_expenditure                  0\n",
            "diphtheria                         0\n",
            "hiv/aids                           0\n",
            "gdp                                0\n",
            "population                         0\n",
            "thinness_1-19_years                0\n",
            "thinness_5-9_years                 0\n",
            "income_composition_of_resources    0\n",
            "schooling                          0\n",
            "dtype: int64\n"
          ]
        },
        {
          "output_type": "stream",
          "name": "stderr",
          "text": [
            "/usr/local/lib/python3.7/dist-packages/ipykernel_launcher.py:10: FutureWarning: Dropping of nuisance columns in DataFrame reductions (with 'numeric_only=None') is deprecated; in a future version this will raise TypeError.  Select only valid columns before calling the reduction.\n",
            "  # Remove the CWD from sys.path while we load stuff.\n",
            "/usr/local/lib/python3.7/dist-packages/ipykernel_launcher.py:11: FutureWarning: Dropping of nuisance columns in DataFrame reductions (with 'numeric_only=None') is deprecated; in a future version this will raise TypeError.  Select only valid columns before calling the reduction.\n",
            "  # This is added back by InteractiveShellApp.init_path()\n"
          ]
        }
      ],
      "source": [
        "def delete_whitespace(word):\n",
        "  try:\n",
        "    word = ''.join(word.split(' '))\n",
        "  except:\n",
        "    pass\n",
        "  return word\n",
        "\n",
        "df.country = df.country.apply(delete_whitespace)\n",
        "df_test.country = df_test.country.apply(delete_whitespace)\n",
        "df.fillna(df.mean(), inplace=True)\n",
        "df_test.fillna(df_test.mean(), inplace=True)\n",
        "print(len(df.columns))\n",
        "print(len(df_test.columns))\n",
        "print(df.isnull().sum())\n",
        "print(df_test.isnull().sum())"
      ]
    },
    {
      "cell_type": "code",
      "execution_count": null,
      "metadata": {
        "id": "ObDoLgDxF3-b"
      },
      "outputs": [],
      "source": [
        "feature_not_required = ['year', 'population', 'gdp', 'hiv/aids', 'diphtheria', 'alcohol', 'infant_deaths', \n",
        "                        'total_expenditure', 'percentage_expenditure', 'hepatitis_b', 'polio', 'thinness_5-9_years', \n",
        "                        'thinness_1-19_years', 'bmi', 'under-five_deaths']\n",
        "df = df.drop(feature_not_required, axis = 1)\n",
        "df_test = df_test.drop(feature_not_required, axis = 1)"
      ]
    },
    {
      "cell_type": "code",
      "execution_count": null,
      "metadata": {
        "colab": {
          "base_uri": "https://localhost:8080/"
        },
        "id": "EdpEYiBGHu7i",
        "outputId": "76df77bc-bf58-49e8-c5b3-bd6a14a6689c"
      },
      "outputs": [
        {
          "output_type": "stream",
          "name": "stdout",
          "text": [
            "8\n",
            "7\n"
          ]
        }
      ],
      "source": [
        "print(len(df.columns))\n",
        "print(len(df_test.columns))"
      ]
    },
    {
      "cell_type": "code",
      "execution_count": null,
      "metadata": {
        "id": "mzShtm4AGLEK",
        "colab": {
          "base_uri": "https://localhost:8080/"
        },
        "outputId": "c82bbd02-92a8-4f70-dd64-6b0387a936db"
      },
      "outputs": [
        {
          "output_type": "stream",
          "name": "stdout",
          "text": [
            "190\n",
            "188\n"
          ]
        }
      ],
      "source": [
        "Country_dummy = pd.get_dummies(df['country'])\n",
        "Country_dummy_test = pd.get_dummies(df_test['country'])\n",
        "\n",
        "status_dummy = pd.get_dummies(df['status'])\n",
        "status_dummy_test = pd.get_dummies(df_test['status'])\n",
        "\n",
        "df.drop(['country','status'], inplace=True, axis=1)\n",
        "df_test.drop(['country','status'], inplace=True, axis=1)\n",
        "\n",
        "df = pd.concat([df, Country_dummy, status_dummy], axis=1)\n",
        "df_test = pd.concat([df_test, Country_dummy_test, status_dummy_test], axis=1)\n",
        "\n",
        "df.drop('Developing', inplace = True, axis = 1)\n",
        "df_test.drop('Developing', inplace = True, axis = 1)\n",
        "\n",
        "print(len(df.columns))\n",
        "print(len(df_test.columns))"
      ]
    },
    {
      "cell_type": "code",
      "source": [
        "df_test.info"
      ],
      "metadata": {
        "colab": {
          "base_uri": "https://localhost:8080/"
        },
        "id": "qeN2hnq8WO2Q",
        "outputId": "f004cc75-ec88-475b-ed0a-8795f6ba25dc"
      },
      "execution_count": null,
      "outputs": [
        {
          "output_type": "execute_result",
          "data": {
            "text/plain": [
              "<bound method DataFrame.info of       id  adult_mortality  measles  income_composition_of_resources  \\\n",
              "0      0             69.0      443                            0.920   \n",
              "1      1            284.0      243                            0.414   \n",
              "2      2            647.0     2672                            0.559   \n",
              "3      3             39.0    13476                            0.485   \n",
              "4      4             19.0        0                            0.727   \n",
              "..   ...              ...      ...                              ...   \n",
              "874  874            222.0        1                            0.780   \n",
              "875  875             29.0        0                            0.698   \n",
              "876  876             45.0        4                            0.372   \n",
              "877  877            285.0      210                            0.430   \n",
              "878  878            156.0        0                            0.720   \n",
              "\n",
              "     schooling  Afghanistan  Albania  Algeria  Angola  AntiguaandBarbuda  ...  \\\n",
              "0         17.0            0        0        0       0                  0  ...   \n",
              "1          8.8            0        0        0       0                  0  ...   \n",
              "2         11.7            0        0        0       0                  0  ...   \n",
              "3          8.0            0        0        0       0                  0  ...   \n",
              "4         15.2            0        0        0       0                  0  ...   \n",
              "..         ...          ...      ...      ...     ...                ...  ...   \n",
              "874       15.5            0        0        0       0                  0  ...   \n",
              "875       14.2            0        0        0       0                  0  ...   \n",
              "876        8.8            0        0        0       0                  0  ...   \n",
              "877        8.5            0        0        0       0                  0  ...   \n",
              "878       13.3            0        0        0       0                  0  ...   \n",
              "\n",
              "     UnitedStatesofAmerica  Uruguay  Uzbekistan  Vanuatu  \\\n",
              "0                        0        0           0        0   \n",
              "1                        0        0           0        0   \n",
              "2                        0        0           0        0   \n",
              "3                        0        0           0        0   \n",
              "4                        0        0           0        0   \n",
              "..                     ...      ...         ...      ...   \n",
              "874                      0        0           0        0   \n",
              "875                      0        0           0        0   \n",
              "876                      0        0           0        0   \n",
              "877                      0        0           0        0   \n",
              "878                      0        0           0        0   \n",
              "\n",
              "     Venezuela(BolivarianRepublicof)  VietNam  Yemen  Zambia  Zimbabwe  \\\n",
              "0                                  0        0      0       0         0   \n",
              "1                                  0        0      0       0         0   \n",
              "2                                  0        0      0       0         0   \n",
              "3                                  0        0      0       0         0   \n",
              "4                                  0        0      0       0         0   \n",
              "..                               ...      ...    ...     ...       ...   \n",
              "874                                0        0      0       0         0   \n",
              "875                                0        0      0       0         0   \n",
              "876                                0        0      0       0         0   \n",
              "877                                0        0      0       0         0   \n",
              "878                                0        0      0       0         0   \n",
              "\n",
              "     Developed  \n",
              "0            1  \n",
              "1            0  \n",
              "2            0  \n",
              "3            0  \n",
              "4            0  \n",
              "..         ...  \n",
              "874          0  \n",
              "875          0  \n",
              "876          0  \n",
              "877          0  \n",
              "878          0  \n",
              "\n",
              "[879 rows x 188 columns]>"
            ]
          },
          "metadata": {},
          "execution_count": 104
        }
      ]
    },
    {
      "cell_type": "code",
      "source": [
        "df_col = set(df.columns.to_list())\n",
        "df_test_col = set(df_test.columns.to_list())\n",
        "\n",
        "for item in df_col:\n",
        "  if item not in df_test_col:\n",
        "    print(item)"
      ],
      "metadata": {
        "colab": {
          "base_uri": "https://localhost:8080/"
        },
        "id": "ijQw8pCpRm2W",
        "outputId": "ee9f8b75-3b36-42ed-ac59-51731a8131d4"
      },
      "execution_count": null,
      "outputs": [
        {
          "output_type": "stream",
          "name": "stdout",
          "text": [
            "Romania\n",
            "life_expectancy\n"
          ]
        }
      ]
    },
    {
      "cell_type": "code",
      "source": [
        "df.drop('Romania', inplace=True, axis=1)\n",
        "print(df)"
      ],
      "metadata": {
        "colab": {
          "base_uri": "https://localhost:8080/"
        },
        "id": "runuNb-jWaDW",
        "outputId": "9952748c-2043-4b20-8e8b-2cd9c292d7bc"
      },
      "execution_count": null,
      "outputs": [
        {
          "output_type": "stream",
          "name": "stdout",
          "text": [
            "        id  life_expectancy  adult_mortality  measles  \\\n",
            "0        0             80.0             64.0        1   \n",
            "1        1             82.7             54.0       61   \n",
            "2        2             68.8            222.0    20359   \n",
            "3        3             52.4            336.0      115   \n",
            "4        4             63.0            232.0      272   \n",
            "...    ...              ...              ...      ...   \n",
            "2044  2044             71.0            218.0        0   \n",
            "2045  2045             66.1            227.0        1   \n",
            "2046  2046             73.9             97.0       92   \n",
            "2047  2047             88.0             66.0      135   \n",
            "2048  2048             73.6             89.0        0   \n",
            "\n",
            "      income_composition_of_resources  schooling  Afghanistan  Albania  \\\n",
            "0                            0.813000  14.600000            0        0   \n",
            "1                            0.932000  15.700000            0        0   \n",
            "2                            0.733000  14.800000            0        0   \n",
            "3                            0.629348  11.965256            0        0   \n",
            "4                            0.331000   5.100000            0        0   \n",
            "...                               ...        ...          ...      ...   \n",
            "2044                         0.716000  13.700000            0        0   \n",
            "2045                         0.493000  10.800000            0        0   \n",
            "2046                         0.634000  12.100000            0        0   \n",
            "2047                         0.851000  15.800000            0        0   \n",
            "2048                         0.787000  14.100000            0        0   \n",
            "\n",
            "      Algeria  Angola  ...  UnitedStatesofAmerica  Uruguay  Uzbekistan  \\\n",
            "0           0       0  ...                      0        0           0   \n",
            "1           0       0  ...                      0        0           0   \n",
            "2           0       0  ...                      0        0           0   \n",
            "3           0       0  ...                      0        0           0   \n",
            "4           0       0  ...                      0        0           0   \n",
            "...       ...     ...  ...                    ...      ...         ...   \n",
            "2044        0       0  ...                      0        0           0   \n",
            "2045        0       0  ...                      0        0           0   \n",
            "2046        0       0  ...                      0        0           0   \n",
            "2047        0       0  ...                      0        0           0   \n",
            "2048        0       0  ...                      0        0           0   \n",
            "\n",
            "      Vanuatu  Venezuela(BolivarianRepublicof)  VietNam  Yemen  Zambia  \\\n",
            "0           0                                0        0      0       0   \n",
            "1           0                                0        0      0       0   \n",
            "2           0                                0        0      0       0   \n",
            "3           0                                0        0      0       0   \n",
            "4           0                                0        0      0       0   \n",
            "...       ...                              ...      ...    ...     ...   \n",
            "2044        0                                0        0      0       0   \n",
            "2045        0                                0        0      0       0   \n",
            "2046        0                                0        0      0       0   \n",
            "2047        0                                0        0      0       0   \n",
            "2048        0                                0        0      0       0   \n",
            "\n",
            "      Zimbabwe  Developed  \n",
            "0            0          1  \n",
            "1            0          1  \n",
            "2            0          0  \n",
            "3            0          0  \n",
            "4            0          0  \n",
            "...        ...        ...  \n",
            "2044         0          1  \n",
            "2045         0          0  \n",
            "2046         0          0  \n",
            "2047         0          1  \n",
            "2048         0          0  \n",
            "\n",
            "[2049 rows x 189 columns]\n"
          ]
        }
      ]
    },
    {
      "cell_type": "code",
      "execution_count": null,
      "metadata": {
        "id": "PlcfqwcYGfUa"
      },
      "outputs": [],
      "source": [
        "Y_train = df['life_expectancy']\n",
        "X_train = df.drop('life_expectancy', axis = 1)"
      ]
    },
    {
      "cell_type": "code",
      "source": [
        "X_train.drop('id', inplace=True, axis=1)\n",
        "df_test.drop('id', inplace=True, axis=1)\n",
        "print(X_train.columns.to_list())\n",
        "print(df_test.columns.to_list())\n",
        "print(Y_train.to_list())"
      ],
      "metadata": {
        "id": "957bMRPTyE9z"
      },
      "execution_count": null,
      "outputs": []
    },
    {
      "cell_type": "code",
      "execution_count": null,
      "metadata": {
        "id": "PFM6fQltGZJ8"
      },
      "outputs": [],
      "source": [
        "from sklearn.linear_model import LinearRegression\n",
        "from sklearn.metrics import mean_squared_error"
      ]
    },
    {
      "cell_type": "code",
      "execution_count": null,
      "metadata": {
        "colab": {
          "base_uri": "https://localhost:8080/"
        },
        "id": "lj9piZEeGbGL",
        "outputId": "3e501cbb-3209-40d9-f3fb-23736503f688"
      },
      "outputs": [
        {
          "output_type": "execute_result",
          "data": {
            "text/plain": [
              "LinearRegression()"
            ]
          },
          "metadata": {},
          "execution_count": 118
        }
      ],
      "source": [
        "Linear_model= LinearRegression()\n",
        "Linear_model.fit(X_train, Y_train)"
      ]
    },
    {
      "cell_type": "code",
      "source": [
        "predictions = Linear_model.predict(df_test)\n",
        "print(predictions.shape)\n",
        "print(ids.shape)\n",
        "res = np.vstack((ids,predictions))\n",
        "res = res.transpose()\n",
        "res_frame = pd.DataFrame(data=predictions, columns=['life_expectancy'])\n",
        "print(res_frame)\n",
        "res_frame.to_csv('predictions.csv', index_label='id')\n",
        "train_pred = Linear_model.predict(X_train)\n",
        "print(mean_squared_error(Y_train, train_pred, squared=False))"
      ],
      "metadata": {
        "colab": {
          "base_uri": "https://localhost:8080/"
        },
        "id": "3PGS3s-pWpoG",
        "outputId": "16e4dfcd-ce4f-49d7-ab6d-d234f4cf2909"
      },
      "execution_count": null,
      "outputs": [
        {
          "output_type": "stream",
          "name": "stdout",
          "text": [
            "(879,)\n",
            "(879,)\n",
            "     life_expectancy\n",
            "0          81.210158\n",
            "1          57.011639\n",
            "2          56.330735\n",
            "3          60.014436\n",
            "4          70.188927\n",
            "..               ...\n",
            "874        70.328143\n",
            "875        69.382899\n",
            "876        55.414148\n",
            "877        57.410547\n",
            "878        73.114972\n",
            "\n",
            "[879 rows x 1 columns]\n"
          ]
        }
      ]
    }
  ],
  "metadata": {
    "colab": {
      "name": "Untitled0.ipynb",
      "provenance": [],
      "collapsed_sections": []
    },
    "kernelspec": {
      "display_name": "Python 3",
      "name": "python3"
    },
    "language_info": {
      "name": "python"
    }
  },
  "nbformat": 4,
  "nbformat_minor": 0
}